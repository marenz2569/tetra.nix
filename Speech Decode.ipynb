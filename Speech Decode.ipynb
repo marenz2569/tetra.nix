{
 "cells": [
  {
   "cell_type": "code",
   "execution_count": null,
   "id": "0cba9770",
   "metadata": {},
   "outputs": [],
   "source": [
    "import json\n",
    "import os\n",
    "import glob"
   ]
  },
  {
   "cell_type": "code",
   "execution_count": null,
   "id": "cabcf045",
   "metadata": {},
   "outputs": [],
   "source": [
    "try:\n",
    "    os.mkdir('out')\n",
    "except FileExistsError:\n",
    "    pass\n",
    "\n",
    "file = open('data', 'r')\n",
    "frames = {}\n",
    "lines = file.readlines()\n",
    "for idx, line in enumerate(lines):\n",
    "    try:\n",
    "        data = json.loads(line)\n",
    "        _ = data['frame']\n",
    "    except:\n",
    "        continue\n",
    "    frame = data['frame']\n",
    "    \n",
    "    try:\n",
    "        _ = frames[data['ssi']]\n",
    "    except:\n",
    "        frames[data['ssi']] = {}\n",
    "        \n",
    "    usage_marker = str(data['downlink usage marker'])\n",
    "    try:\n",
    "        _ = frames[data['ssi']][usage_marker]\n",
    "    except:\n",
    "        frames[data['ssi']][usage_marker] = []\n",
    "    \n",
    "    try:\n",
    "        last_frame_idx = int(frames[data['ssi']][usage_marker][-1].split('.')[0].split('/')[-1])\n",
    "        if lines[last_frame_idx] == frame:\n",
    "            continue\n",
    "    except:\n",
    "        pass\n",
    "    \n",
    "    frames[data['ssi']][usage_marker].append(f'out/{str(idx).zfill(5)}.ogg')\n",
    "    \n",
    "    command = f\"echo -n \\\"{frame}\\\" | base64 -d | perl -MCompress::Zlib -e 'undef $/; print uncompress(<>)' | cdecoder /dev/stdin /dev/stdout | sdecoder /dev/stdin out/{str(idx).zfill(5)}.raw\"\n",
    "    os.system(command)"
   ]
  },
  {
   "cell_type": "code",
   "execution_count": null,
   "id": "72e64f82",
   "metadata": {},
   "outputs": [],
   "source": [
    "for file in sorted(glob.glob('out/*.raw')):\n",
    "    out = file.split('.')[0] + \".ogg\"\n",
    "    os.system(f\"sox -q -r 8000 -e signed -b 16 -c 1 {file} {out}\")\n",
    "    print(out)"
   ]
  },
  {
   "cell_type": "code",
   "execution_count": null,
   "id": "248ef70f",
   "metadata": {},
   "outputs": [],
   "source": [
    "try:\n",
    "    os.mkdir('decoded')\n",
    "except FileExistsError:\n",
    "    pass\n",
    "\n",
    "for ssi in frames:\n",
    "    for marker in frames[ssi]:  \n",
    "        os.system('sox ' + ' '.join(frames[ssi][marker]) + f' decoded/{ssi}.{marker}.ogg')"
   ]
  },
  {
   "cell_type": "code",
   "execution_count": null,
   "id": "0e93672f",
   "metadata": {},
   "outputs": [],
   "source": []
  }
 ],
 "metadata": {
  "kernelspec": {
   "display_name": "Python 3 (ipykernel)",
   "language": "python",
   "name": "python3"
  },
  "language_info": {
   "codemirror_mode": {
    "name": "ipython",
    "version": 3
   },
   "file_extension": ".py",
   "mimetype": "text/x-python",
   "name": "python",
   "nbconvert_exporter": "python",
   "pygments_lexer": "ipython3",
   "version": "3.10.8"
  }
 },
 "nbformat": 4,
 "nbformat_minor": 5
}
